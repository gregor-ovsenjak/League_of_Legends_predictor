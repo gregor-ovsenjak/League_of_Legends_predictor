{
 "cells": [
  {
   "cell_type": "code",
   "execution_count": 9,
   "metadata": {},
   "outputs": [],
   "source": [
    "from Data_visualization.Feature_selection import FeatImp\n",
    "from Data_cleanup.Cleanup import BlueRedSubstraction,Normalisation\n",
    "from data_collect import detect_outliers\n",
    "from Training.Training import cross_val_results\n",
    "from sklearn.model_selection import GridSearchCV, KFold\n",
    "import numpy as np\n",
    "import pandas as pd\n",
    "import matplotlib.pyplot as plt\n",
    "from sklearn.ensemble import RandomForestClassifier\n",
    "from sklearn.svm import SVC\n",
    "from sklearn.linear_model import LogisticRegression\n",
    "\n",
    "\n",
    "data = pd.read_csv('data/lol.csv') \n",
    "data_0 = data.drop(['gameId'],axis = 1)\n",
    "target = data['blueWins']\n",
    "data_1 = BlueRedSubstraction(data) #spremenjeni podatki\n",
    "data_2 = pd.concat([data_1,target],axis = 1)\n",
    "data_3 = data_2.drop([\"GoldPerMinDiff\",\"blueWins\",\"CSPerMinDiff\"],axis = 1) # ovržem nekatere podobne stolpce,ter target stolpec\n",
    "train_len = int(data_3.shape[0]*0.8)\n",
    "train = data_3[:train_len]\n",
    "test = data_3[train_len:]\n",
    "\n",
    "target_train = target[:train_len]\n",
    "target_test = target[train_len:]\n",
    "norm = Normalisation(MM = True)\n",
    "train_sc, train_mm = norm.transform(X = train)"
   ]
  },
  {
   "cell_type": "code",
   "execution_count": 10,
   "metadata": {},
   "outputs": [
    {
     "name": "stdout",
     "output_type": "stream",
     "text": [
      "Fitting 10 folds for each of 108 candidates, totalling 1080 fits\n"
     ]
    },
    {
     "name": "stderr",
     "output_type": "stream",
     "text": [
      "[Parallel(n_jobs=4)]: Using backend LokyBackend with 4 concurrent workers.\n",
      "[Parallel(n_jobs=4)]: Done  42 tasks      | elapsed:  1.1min\n",
      "[Parallel(n_jobs=4)]: Done 192 tasks      | elapsed:  4.5min\n",
      "[Parallel(n_jobs=4)]: Done 442 tasks      | elapsed: 10.6min\n",
      "[Parallel(n_jobs=4)]: Done 792 tasks      | elapsed: 29.7min\n",
      "[Parallel(n_jobs=4)]: Done 1080 out of 1080 | elapsed: 54.9min finished\n"
     ]
    },
    {
     "data": {
      "text/plain": [
       "0.7295944886299989"
      ]
     },
     "execution_count": 10,
     "metadata": {},
     "output_type": "execute_result"
    }
   ],
   "source": [
    "'''Fine tuning Random forest Classifier'''\n",
    "RFC = RandomForestClassifier()\n",
    "kfold = KFold(n_splits=10)\n",
    "\n",
    "## Search grid for optimal parameters\n",
    "rf_param_grid = {\"max_depth\": [None],\n",
    "              \"max_features\": [1, 3, 10],\n",
    "              \"min_samples_split\": [2, 3, 10],\n",
    "              \"min_samples_leaf\": [1, 3, 10],\n",
    "              \"bootstrap\": [False],\n",
    "              \"n_estimators\" :[10,100,1000,50],\n",
    "              \"criterion\": [\"gini\"]}\n",
    "\n",
    "\n",
    "gsRFC = GridSearchCV(RFC,param_grid = rf_param_grid, cv=kfold, scoring=\"accuracy\", n_jobs= -1, verbose = 1)\n",
    "\n",
    "gsRFC.fit(train_sc,target_train)\n",
    "\n",
    "RFC_best = gsRFC.best_estimator_\n",
    "\n",
    "# Best score\n",
    "gsRFC.best_score_"
   ]
  },
  {
   "cell_type": "code",
   "execution_count": 16,
   "metadata": {},
   "outputs": [
    {
     "name": "stdout",
     "output_type": "stream",
     "text": [
      "{'bootstrap': False, 'criterion': 'gini', 'max_depth': None, 'max_features': 1, 'min_samples_leaf': 10, 'min_samples_split': 2, 'n_estimators': 1000}\n"
     ]
    }
   ],
   "source": [
    "print(gsRFC.best_params_)"
   ]
  },
  {
   "cell_type": "code",
   "execution_count": null,
   "metadata": {},
   "outputs": [],
   "source": []
  }
 ],
 "metadata": {
  "kernelspec": {
   "display_name": "Python 3",
   "language": "python",
   "name": "python3"
  },
  "language_info": {
   "codemirror_mode": {
    "name": "ipython",
    "version": 3
   },
   "file_extension": ".py",
   "mimetype": "text/x-python",
   "name": "python",
   "nbconvert_exporter": "python",
   "pygments_lexer": "ipython3",
   "version": "3.6.2"
  }
 },
 "nbformat": 4,
 "nbformat_minor": 4
}
