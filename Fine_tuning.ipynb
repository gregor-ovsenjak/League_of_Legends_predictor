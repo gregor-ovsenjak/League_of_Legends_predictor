{
 "cells": [
  {
   "cell_type": "code",
   "execution_count": 1,
   "metadata": {},
   "outputs": [],
   "source": [
    "from Data_visualization.Feature_selection import FeatImp\n",
    "from Data_cleanup.Cleanup import BlueRedSubstraction,Normalisation\n",
    "from data_collect import detect_outliers,plot_decision_regions\n",
    "from Training.Training import cross_val_results\n",
    "from sklearn.model_selection import GridSearchCV, KFold\n",
    "import numpy as np\n",
    "import pandas as pd\n",
    "import matplotlib.pyplot as plt\n",
    "from sklearn.ensemble import RandomForestClassifier,VotingClassifier\n",
    "from sklearn.svm import SVC\n",
    "from sklearn.linear_model import LogisticRegression\n",
    "\n",
    "kfold = KFold(n_splits=8)\n",
    "data = pd.read_csv('data/lol.csv') \n",
    "data_0 = data.drop(['gameId'],axis = 1)\n",
    "target = data['blueWins']\n",
    "data_1 = BlueRedSubstraction(data) #spremenjeni podatki\n",
    "data_2 = pd.concat([data_1,target],axis = 1)\n",
    "data_3 = data_2.drop([\"GoldPerMinDiff\",\"blueWins\",\"CSPerMinDiff\"],axis = 1) # ovržem nekatere podobne stolpce,ter target stolpec\n",
    "train_len = int(data_3.shape[0]*0.8)\n",
    "train = data_3[:train_len]\n",
    "test = data_3[train_len:]\n",
    "\n",
    "target_train = target[:train_len]\n",
    "target_test = target[train_len:].reset_index()\n",
    "norm = Normalisation(MM = True)\n",
    "train_sc, train_mm = norm.transform(X = train)\n",
    "test_sc,test_mm = norm.transform(X=test)\n",
    "target_test = target_test[\"blueWins\"]\n",
    "target_test = pd.Series(target_test)"
   ]
  },
  {
   "cell_type": "code",
   "execution_count": 10,
   "metadata": {},
   "outputs": [
    {
     "name": "stdout",
     "output_type": "stream",
     "text": [
      "Fitting 10 folds for each of 108 candidates, totalling 1080 fits\n"
     ]
    },
    {
     "name": "stderr",
     "output_type": "stream",
     "text": [
      "[Parallel(n_jobs=4)]: Using backend LokyBackend with 4 concurrent workers.\n",
      "[Parallel(n_jobs=4)]: Done  42 tasks      | elapsed:  1.1min\n",
      "[Parallel(n_jobs=4)]: Done 192 tasks      | elapsed:  4.5min\n",
      "[Parallel(n_jobs=4)]: Done 442 tasks      | elapsed: 10.6min\n",
      "[Parallel(n_jobs=4)]: Done 792 tasks      | elapsed: 29.7min\n",
      "[Parallel(n_jobs=4)]: Done 1080 out of 1080 | elapsed: 54.9min finished\n"
     ]
    },
    {
     "data": {
      "text/plain": [
       "0.7295944886299989"
      ]
     },
     "execution_count": 10,
     "metadata": {},
     "output_type": "execute_result"
    }
   ],
   "source": [
    "'''Fine tuning Random forest Classifier'''\n",
    "RFC = RandomForestClassifier()\n",
    "kfold = KFold(n_splits=10)\n",
    "\n",
    "## Search grid for optimal parameters\n",
    "rf_param_grid = {\"max_depth\": [None],\n",
    "              \"max_features\": [1, 3, 10],\n",
    "              \"min_samples_split\": [2, 3, 10],\n",
    "              \"min_samples_leaf\": [1, 3, 10],\n",
    "              \"bootstrap\": [False],\n",
    "              \"n_estimators\" :[10,100,1000,50],\n",
    "              \"criterion\": [\"gini\"]}\n",
    "\n",
    "\n",
    "gsRFC = GridSearchCV(RFC,param_grid = rf_param_grid, cv=kfold, scoring=\"accuracy\", n_jobs= -1, verbose = 1)\n",
    "\n",
    "gsRFC.fit(train_sc,target_train)\n",
    "\n",
    "RFC_best = gsRFC.best_estimator_\n",
    "\n",
    "# Best score\n",
    "gsRFC.best_score_"
   ]
  },
  {
   "cell_type": "code",
   "execution_count": 16,
   "metadata": {},
   "outputs": [
    {
     "name": "stdout",
     "output_type": "stream",
     "text": [
      "{'bootstrap': False, 'criterion': 'gini', 'max_depth': None, 'max_features': 1, 'min_samples_leaf': 10, 'min_samples_split': 2, 'n_estimators': 1000}\n"
     ]
    }
   ],
   "source": [
    "print(gsRFC.best_params_)"
   ]
  },
  {
   "cell_type": "code",
   "execution_count": 2,
   "metadata": {},
   "outputs": [
    {
     "name": "stdout",
     "output_type": "stream",
     "text": [
      "Fitting 8 folds for each of 70 candidates, totalling 560 fits\n"
     ]
    },
    {
     "name": "stderr",
     "output_type": "stream",
     "text": [
      "[Parallel(n_jobs=-1)]: Using backend LokyBackend with 4 concurrent workers.\n",
      "[Parallel(n_jobs=-1)]: Done  44 tasks      | elapsed:    3.9s\n",
      "[Parallel(n_jobs=-1)]: Done 344 tasks      | elapsed:   12.6s\n",
      "[Parallel(n_jobs=-1)]: Done 560 out of 560 | elapsed:   21.2s finished\n"
     ]
    },
    {
     "data": {
      "text/plain": [
       "0.735292865961959"
      ]
     },
     "execution_count": 2,
     "metadata": {},
     "output_type": "execute_result"
    }
   ],
   "source": [
    "LR = LogisticRegression()\n",
    "lr_param_grid = {\"penalty\":['l1', 'l2'],\n",
    "                 \"C\":[0.1,0.2,0.5,1.0,1.5,2.0,2.7],\n",
    "                 \"solver\":['newton-cg', 'lbfgs', 'liblinear', 'sag', 'saga']}\n",
    "gsLR = GridSearchCV(LR,param_grid = lr_param_grid, cv=kfold, scoring=\"accuracy\", n_jobs= -1, verbose = 1)\n",
    "\n",
    "gsLR.fit(train_sc,target_train)\n",
    "\n",
    "LR_best = gsLR.best_estimator_\n",
    "\n",
    "# Best score\n",
    "gsLR.best_score_"
   ]
  },
  {
   "cell_type": "code",
   "execution_count": 39,
   "metadata": {},
   "outputs": [
    {
     "name": "stdout",
     "output_type": "stream",
     "text": [
      "{'C': 1.0, 'penalty': 'l1', 'solver': 'liblinear'}\n"
     ]
    }
   ],
   "source": [
    "LR_best = LR.best_params_"
   ]
  },
  {
   "cell_type": "code",
   "execution_count": 40,
   "metadata": {},
   "outputs": [
    {
     "name": "stdout",
     "output_type": "stream",
     "text": [
      "Fitting 8 folds for each of 192 candidates, totalling 1536 fits\n"
     ]
    },
    {
     "name": "stderr",
     "output_type": "stream",
     "text": [
      "[Parallel(n_jobs=-1)]: Using backend LokyBackend with 4 concurrent workers.\n",
      "[Parallel(n_jobs=-1)]: Done  42 tasks      | elapsed:   38.7s\n",
      "[Parallel(n_jobs=-1)]: Done 192 tasks      | elapsed:  2.8min\n",
      "[Parallel(n_jobs=-1)]: Done 442 tasks      | elapsed:  7.2min\n",
      "[Parallel(n_jobs=-1)]: Done 792 tasks      | elapsed: 13.9min\n",
      "[Parallel(n_jobs=-1)]: Done 1242 tasks      | elapsed: 24.6min\n",
      "[Parallel(n_jobs=-1)]: Done 1536 out of 1536 | elapsed: 32.0min finished\n"
     ]
    },
    {
     "data": {
      "text/plain": [
       "0.732003520462367"
      ]
     },
     "execution_count": 40,
     "metadata": {},
     "output_type": "execute_result"
    }
   ],
   "source": [
    "SC = SVC()\n",
    "\n",
    "sc_param_grid = {\"C\":[0.1,0.5,0.7,1.0,2.0,2.5,2.7,3.0],\n",
    "                 \"kernel\":['linear','poly','rbf','sigmoid'],\n",
    "                 \"degree\":[2,3,4],\n",
    "                 \"gamma\": ['scale','auto']\n",
    "                }\n",
    "gsSC = GridSearchCV(SC,param_grid = sc_param_grid, cv=kfold, scoring=\"accuracy\", n_jobs= -1, verbose = 1)\n",
    "gsSC.fit(train_sc,target_train)\n",
    "\n",
    "SC_best = gsSC.best_estimator_\n",
    "\n",
    "# Best score\n",
    "gsSC.best_score_"
   ]
  },
  {
   "cell_type": "code",
   "execution_count": 70,
   "metadata": {},
   "outputs": [
    {
     "name": "stdout",
     "output_type": "stream",
     "text": [
      "SVC(C=2.0, degree=2, kernel='linear')\n"
     ]
    }
   ],
   "source": [
    "SVMC_best = gsSC.best_estimator_\n",
    "LR_best= gsLR.best_estimator_\n",
    "RFC_best = RandomForestClassifier(n_estimators=1000,criterion ='gini',bootstrap=False,max_features=1,min_samples_leaf=10,min_samples_split=2)"
   ]
  },
  {
   "cell_type": "code",
   "execution_count": 104,
   "metadata": {},
   "outputs": [],
   "source": [
    "votingC = VotingClassifier(estimators=[('rfc', RFC_best),\n",
    "('svc', SVMC_best),('LR',LR_best)], voting='hard', n_jobs=-1)\n",
    "\n",
    "votingC = votingC.fit(train_sc, target_train)"
   ]
  },
  {
   "cell_type": "code",
   "execution_count": 133,
   "metadata": {},
   "outputs": [],
   "source": [
    "test_Won = pd.Series(votingC.predict(test_sc), name=\"BlueWon\")\n",
    "\n",
    "results = pd.concat([target_test,test_Won],axis=1)\n",
    "tp_tn = results[results[\"blueWins\"]==results[\"BlueWon\"]]\n",
    "\n",
    "acc = len(tp_tn)/(results.shape[0])"
   ]
  },
  {
   "cell_type": "code",
   "execution_count": 134,
   "metadata": {},
   "outputs": [
    {
     "name": "stdout",
     "output_type": "stream",
     "text": [
      "0.7257085020242915\n"
     ]
    }
   ],
   "source": [
    "results.head(20)\n",
    "print(acc)"
   ]
  },
  {
   "cell_type": "code",
   "execution_count": 113,
   "metadata": {},
   "outputs": [
    {
     "data": {
      "text/plain": [
       "0.7257085020242915"
      ]
     },
     "execution_count": 113,
     "metadata": {},
     "output_type": "execute_result"
    }
   ],
   "source": [
    "acc"
   ]
  },
  {
   "cell_type": "code",
   "execution_count": 132,
   "metadata": {},
   "outputs": [
    {
     "name": "stdout",
     "output_type": "stream",
     "text": [
      "0.7257085020242915\n",
      "0.2742914979757085\n"
     ]
    }
   ],
   "source": [
    "test_LR = pd.Series(LR_best.predict(test_sc), name=\"BlueWon\")\n",
    "\n",
    "resultsLR = pd.concat([target_test,test_LR],axis=1)\n",
    "tp_tnLR = results[results[\"blueWins\"]==results[\"BlueWon\"]]\n",
    "falseLR = results[results[\"blueWins\"]!=results[\"BlueWon\"]]\n",
    "accLR = len(tp_tnLR)/(results.shape[0])\n",
    "print(accLR)\n",
    "print(1-accLR)"
   ]
  },
  {
   "cell_type": "code",
   "execution_count": 131,
   "metadata": {},
   "outputs": [
    {
     "name": "stdout",
     "output_type": "stream",
     "text": [
      "0.7257085020242915\n",
      "0.2742914979757085\n"
     ]
    }
   ],
   "source": [
    "test_SC = pd.Series(SVMC_best.predict(test_sc), name=\"BlueWon\")\n",
    "\n",
    "resultsSC = pd.concat([target_test,test_LR],axis=1)\n",
    "tp_tnSC = results[results[\"blueWins\"]==results[\"BlueWon\"]]\n",
    "falseSC = results[results[\"blueWins\"]!=results[\"BlueWon\"]]\n",
    "accSC = len(tp_tnSC)/(results.shape[0])\n",
    "print(accSC)\n",
    "print(1-accSC)"
   ]
  },
  {
   "cell_type": "code",
   "execution_count": null,
   "metadata": {},
   "outputs": [],
   "source": [
    "train_scG =train_sc[\"TotalGoldDiff\"].to_numpy().reshape(train_sc.shape[0],1)\n",
    "train_scE = train_sc[\"TotalExperienceDiff\"].to_numpy().reshape(train_sc.shape[0],1)\n",
    "X = np.hstack([train_scG, train_scE ])\n",
    "#print(len(X[target_train==1,0]),len(X[target_train==1,1]))\n",
    "LR2 = LogisticRegression()\n",
    "LR2.fit(X,target_train)\n",
    "plt.figure(figsize=(10,7))\n",
    "plot_decision_regions(X,y=target_train,classifier=LR2)"
   ]
  },
  {
   "cell_type": "code",
   "execution_count": null,
   "metadata": {},
   "outputs": [],
   "source": []
  }
 ],
 "metadata": {
  "kernelspec": {
   "display_name": "Python 3",
   "language": "python",
   "name": "python3"
  },
  "language_info": {
   "codemirror_mode": {
    "name": "ipython",
    "version": 3
   },
   "file_extension": ".py",
   "mimetype": "text/x-python",
   "name": "python",
   "nbconvert_exporter": "python",
   "pygments_lexer": "ipython3",
   "version": "3.6.2"
  }
 },
 "nbformat": 4,
 "nbformat_minor": 4
}
